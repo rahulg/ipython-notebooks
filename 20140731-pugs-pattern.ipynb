{
 "metadata": {
  "celltoolbar": "Slideshow",
  "name": "",
  "signature": "sha256:3ce4ed97f4360f8808db2ac33c323e0de378e256a80971e49f5aaa70bc541749"
 },
 "nbformat": 3,
 "nbformat_minor": 0,
 "worksheets": [
  {
   "cells": [
    {
     "cell_type": "code",
     "collapsed": false,
     "input": [
      "import os"
     ],
     "language": "python",
     "metadata": {
      "slideshow": {
       "slide_type": "skip"
      }
     },
     "outputs": [],
     "prompt_number": 1
    },
    {
     "cell_type": "code",
     "collapsed": false,
     "input": [
      "creds = {\n",
      "    'twitter': (os.environ['TW_API_KEY'], os.environ['TW_API_SEC'], (os.environ['TW_ACC_KEY'], os.environ['TW_ACC_SEC'])),\n",
      "    'facebook': os.environ['FB_API_KEY'],\n",
      "    'google': os.environ['GG_API_KEY']\n",
      "}"
     ],
     "language": "python",
     "metadata": {
      "slideshow": {
       "slide_type": "skip"
      }
     },
     "outputs": [],
     "prompt_number": 2
    },
    {
     "cell_type": "markdown",
     "metadata": {
      "slideshow": {
       "slide_type": "slide"
      }
     },
     "source": [
      "# Pattern"
     ]
    },
    {
     "cell_type": "code",
     "collapsed": false,
     "input": [
      "import pattern"
     ],
     "language": "python",
     "metadata": {},
     "outputs": [],
     "prompt_number": 3
    },
    {
     "cell_type": "markdown",
     "metadata": {
      "slideshow": {
       "slide_type": "subslide"
      }
     },
     "source": [
      "## What's in it?\n",
      "\n",
      "* pattern.web: data mining fanciness\n",
      "* pattern.db: \"ORM\"-ish\n",
      "    * simpler interface, tabular data\n",
      "    * csv handling\n",
      "* pattern.{en, es, de, fr, it, nl}: languages!\n",
      "    * PoS-tagger\n",
      "    * \"sentiment analysis\"\n",
      "    * verb conjugation, pluralisation, etc.\n",
      "* pattern.search: search by syntax / semantics\n",
      "* pattern.vector: clustering, classification, etc.\n",
      "* pattern.graph: graph analysis!\n",
      "* pattern.metrics: grab-bag of useful tools for dealing with language"
     ]
    },
    {
     "cell_type": "markdown",
     "metadata": {
      "slideshow": {
       "slide_type": "subslide"
      }
     },
     "source": [
      "## Is it any good?\n",
      "\n",
      "Kinda. But it's not perfect.\n",
      "\n",
      "Individual modules are obviously less flexible than unipurpose modules\n",
      "\n",
      "Nice collection of useful tools if you're dealing with anything related to linguistic processing"
     ]
    },
    {
     "cell_type": "markdown",
     "metadata": {
      "slideshow": {
       "slide_type": "slide"
      }
     },
     "source": [
      "# pattern.web"
     ]
    },
    {
     "cell_type": "code",
     "collapsed": false,
     "input": [
      "from pattern.web import Twitter, Facebook, DuckDuckGo, Google, Bing, Wikipedia, Wikia, Newsfeed\n",
      "from pattern.web import SEARCH, NEWS, IMAGE, SPARQL, COMMENTS, LIKES"
     ],
     "language": "python",
     "metadata": {
      "slideshow": {
       "slide_type": "slide"
      }
     },
     "outputs": [],
     "prompt_number": 4
    },
    {
     "cell_type": "code",
     "collapsed": false,
     "input": [
      "tw = Twitter(license=creds['twitter'])\n",
      "fb = Facebook(license=creds['facebook'])\n",
      "ggl = Google(license=creds['google'])\n",
      "# None uses credentials shared across ALL pattern users\n",
      "ddg = DuckDuckGo(license=None)\n",
      "bing = Bing(license=None)\n",
      "wp = Wikipedia(license=None)\n",
      "wa = Wikia(license=None)\n",
      "nf = Newsfeed(license=None) # RSS / atom"
     ],
     "language": "python",
     "metadata": {
      "slideshow": {
       "slide_type": "fragment"
      }
     },
     "outputs": [],
     "prompt_number": 5
    },
    {
     "cell_type": "markdown",
     "metadata": {
      "slideshow": {
       "slide_type": "slide"
      }
     },
     "source": [
      "# Twitter"
     ]
    },
    {
     "cell_type": "code",
     "collapsed": false,
     "input": [
      "tw.trends()"
     ],
     "language": "python",
     "metadata": {
      "slideshow": {
       "slide_type": "fragment"
      }
     },
     "outputs": [
      {
       "metadata": {},
       "output_type": "pyout",
       "prompt_number": 6,
       "text": [
        "[u'#HaftasonuRandevusuzOyVermekistiyorumYSK',\n",
        " u'#muratgogebakan',\n",
        " u'#ThankYouBestfriend',\n",
        " u'#amnesiaEP',\n",
        " u'#BamOfficialChartThisSunday',\n",
        " u'One Direction #BestFandom2014 Directioners',\n",
        " u'Justin Bieber #BestFandom2014 Beliebers',\n",
        " u'RIP Sir Bobby Robson',\n",
        " u'Anabel',\n",
        " u'Feliz Jueves']"
       ]
      }
     ],
     "prompt_number": 6
    },
    {
     "cell_type": "code",
     "collapsed": false,
     "input": [
      "twitter_result = tw.search('ananas', count=100)\n",
      "twitter_result[0]"
     ],
     "language": "python",
     "metadata": {
      "slideshow": {
       "slide_type": "subslide"
      }
     },
     "outputs": [
      {
       "metadata": {},
       "output_type": "pyout",
       "prompt_number": 7,
       "text": [
        "Result({u'profile': u'http://pbs.twimg.com/profile_images/486028208689905664/r-vzT-qS_normal.jpeg', u'language': u'ru', u'author': u'shikari_ananas', u'url': u'https://twitter.com/shikari_ananas/status/494802120152207360', u'text': u'@nnnoda \\u0432\\u0441\\u0435 \\u0444\\u0430\\u043d\\u044e\\u0447\\u043a\\u0438 \\u043d\\u043e\\u0434\\u044b \\u0442\\u0430\\u043a\\u0438\\u0435', u'date': u'Thu Jul 31 11:09:53 +0000 2014', u'id': u'494802120152207360'})"
       ]
      }
     ],
     "prompt_number": 7
    },
    {
     "cell_type": "code",
     "collapsed": false,
     "input": [
      "from collections import Counter\n",
      "languages = [tweet.language for tweet in twitter_result]\n",
      "Counter(languages)"
     ],
     "language": "python",
     "metadata": {
      "slideshow": {
       "slide_type": "fragment"
      }
     },
     "outputs": [
      {
       "metadata": {},
       "output_type": "pyout",
       "prompt_number": 8,
       "text": [
        "Counter({u'ru': 60, u'fr': 12, u'en': 7, u'pt': 6, u'tr': 4, u'de': 3, u'it': 3, u'nl': 1, u'vi': 1, u'da': 1, u'tl': 1, u'in': 1})"
       ]
      }
     ],
     "prompt_number": 8
    },
    {
     "cell_type": "code",
     "collapsed": false,
     "input": [
      "from pattern.web.locale import geocode\n",
      "\n",
      "in_result = tw.search('#EngvInd', count=50, geo=geocode('New Delhi')[:2])\n",
      "en_result = tw.search('#EngvInd', count=50, geo=geocode('London')[:2])"
     ],
     "language": "python",
     "metadata": {
      "slideshow": {
       "slide_type": "subslide"
      }
     },
     "outputs": [],
     "prompt_number": 9
    },
    {
     "cell_type": "code",
     "collapsed": false,
     "input": [
      "from pattern.en import sentiment"
     ],
     "language": "python",
     "metadata": {
      "slideshow": {
       "slide_type": "skip"
      }
     },
     "outputs": [],
     "prompt_number": 10
    },
    {
     "cell_type": "code",
     "collapsed": false,
     "input": [
      "reduce(lambda x, y: x+y, [sentiment(t.text)[0] for t in in_result]) / len(in_result)"
     ],
     "language": "python",
     "metadata": {
      "slideshow": {
       "slide_type": "fragment"
      }
     },
     "outputs": [
      {
       "metadata": {},
       "output_type": "pyout",
       "prompt_number": 11,
       "text": [
        "0.14291278166278154"
       ]
      }
     ],
     "prompt_number": 11
    },
    {
     "cell_type": "code",
     "collapsed": false,
     "input": [
      "reduce(lambda x, y: x+y, [sentiment(t.text)[0] for t in en_result]) / len(en_result)"
     ],
     "language": "python",
     "metadata": {
      "slideshow": {
       "slide_type": "fragment"
      }
     },
     "outputs": [
      {
       "metadata": {},
       "output_type": "pyout",
       "prompt_number": 12,
       "text": [
        "0.12380667249417247"
       ]
      }
     ],
     "prompt_number": 12
    },
    {
     "cell_type": "markdown",
     "metadata": {
      "slideshow": {
       "slide_type": "slide"
      }
     },
     "source": [
      "# Facebook"
     ]
    },
    {
     "cell_type": "code",
     "collapsed": false,
     "input": [
      "fb_result = fb.search('dragon age inquisition', type=SEARCH, count=100)\n",
      "fb_result[0]"
     ],
     "language": "python",
     "metadata": {
      "slideshow": {
       "slide_type": "fragment"
      }
     },
     "outputs": [
      {
       "metadata": {},
       "output_type": "pyout",
       "prompt_number": 13,
       "text": [
        "Result(id=u'449022588487492_753024791420602')"
       ]
      }
     ],
     "prompt_number": 13
    },
    {
     "cell_type": "code",
     "collapsed": false,
     "input": [
      "for post in fb_result:\n",
      "    \n",
      "    if post.likes > 0 and post.comments > 0:\n",
      "        print('\\n\\n'.join( [l.author[1] for l in fb.search(post.id, type=LIKES)] ))\n",
      "        print('-' * 10)\n",
      "        print('\\n\\n'.join( [c.text for c in fb.search(post.id, type=COMMENTS)] ))\n",
      "        break"
     ],
     "language": "python",
     "metadata": {
      "slideshow": {
       "slide_type": "subslide"
      }
     },
     "outputs": [
      {
       "output_type": "stream",
       "stream": "stdout",
       "text": [
        "\u0178\u00f8\u00fc\u010d\u0113f F\u014d\u00fc\u012bn\u00ff\n",
        "\n",
        "Sawako Heiwajima\n",
        "\n",
        "Rex Larbi Poochie\n",
        "\n",
        "Iss\u00e2m Phoneix\n",
        "\n",
        "\u0645\u0648\u0644 \u0627\u0644\u0627\u064a\u0631 \u0645\u0627\u0643\u0633\n",
        "----------\n",
        "ET GTA V sur PC ?? c'est pour quand ? :("
       ]
      },
      {
       "output_type": "stream",
       "stream": "stdout",
       "text": [
        "\n"
       ]
      }
     ],
     "prompt_number": 14
    },
    {
     "cell_type": "markdown",
     "metadata": {
      "slideshow": {
       "slide_type": "slide"
      }
     },
     "source": [
      "# Google, Bing, DuckDuckGo"
     ]
    },
    {
     "cell_type": "code",
     "collapsed": false,
     "input": [
      "google_result = ggl.search('dragon age inquisition', count=10)\n",
      "google_result[0]"
     ],
     "language": "python",
     "metadata": {
      "slideshow": {
       "slide_type": "fragment"
      }
     },
     "outputs": [
      {
       "metadata": {},
       "output_type": "pyout",
       "prompt_number": 15,
       "text": [
        "Result({u'url': u'http://www.dragonage.com/', u'text': u'Beautiful vistas and incredible new possibilities await you in the latest game in <br>\\nthe epic role-playing series from BioWare \\u2013 <b>Dragon Age</b>: <b>Inquisition</b>.', u'date': u'', u'language': u'', u'title': u'Dragon Age: Inquisition'})"
       ]
      }
     ],
     "prompt_number": 15
    },
    {
     "cell_type": "markdown",
     "metadata": {
      "slideshow": {
       "slide_type": "subslide"
      }
     },
     "source": [
      "# Google Translate"
     ]
    },
    {
     "cell_type": "code",
     "collapsed": false,
     "input": [
      "lang_id = [ggl.identify(res.text) for res in fb_result[:10]]\n",
      "lang_id"
     ],
     "language": "python",
     "metadata": {
      "slideshow": {
       "slide_type": "fragment"
      }
     },
     "outputs": [
      {
       "metadata": {},
       "output_type": "pyout",
       "prompt_number": 16,
       "text": [
        "[(u'en', 0.9998242),\n",
        " (u'en', 0.120250024),\n",
        " (u'en', 0.6363636),\n",
        " (u'en', 0.033820875),\n",
        " (u'en', 0.2889652),\n",
        " (u'en', 0.6282051)]"
       ]
      }
     ],
     "prompt_number": 16
    },
    {
     "cell_type": "code",
     "collapsed": false,
     "input": [
      "ggl.translate(fb_result[0].text, input=lang_id[0][0], output='de')"
     ],
     "language": "python",
     "metadata": {
      "slideshow": {
       "slide_type": "fragment"
      }
     },
     "outputs": [
      {
       "metadata": {},
       "output_type": "pyout",
       "prompt_number": 17,
       "text": [
        "u'Dragon Age: Inquisition Kampf Anh\\xe4nger burninates dem Land einen neuen Trailer zu Dragon Age: Inquisition nicht bieten neue Informationen \\xfcber das Spiel der Kampf, aber es ist ermutigend zu BioWare Fokus auf der Ebene der Strategie, die von der Echtzeit-mit-Pause zu sehen System. - http://www.rheena.com/reviews-games-chat-hardware-sony/212236-dragon-age-inquisition-combat-trailer-burninates-countryside.html'"
       ]
      }
     ],
     "prompt_number": 17
    },
    {
     "cell_type": "markdown",
     "metadata": {
      "slideshow": {
       "slide_type": "slide"
      }
     },
     "source": [
      "# Finding emails & links"
     ]
    },
    {
     "cell_type": "code",
     "collapsed": false,
     "input": [
      "from pattern.web import find_urls, find_email\n",
      "\n",
      "s = '''\n",
      "Find out more at the PUGS website (http://pugs.org.sg), or email us at idontknow@whatouremail.is!\n",
      "This is a decoy URL http://pugs.org.sg.\n",
      "'''"
     ],
     "language": "python",
     "metadata": {
      "slideshow": {
       "slide_type": "-"
      }
     },
     "outputs": [],
     "prompt_number": 18
    },
    {
     "cell_type": "code",
     "collapsed": false,
     "input": [
      "find_urls(s, unique=True), \\\n",
      "find_email(s, unique=True)"
     ],
     "language": "python",
     "metadata": {
      "slideshow": {
       "slide_type": "fragment"
      }
     },
     "outputs": [
      {
       "metadata": {},
       "output_type": "pyout",
       "prompt_number": 19,
       "text": [
        "([u'http://pugs.org.sg'], [u'idontknow@whatouremail.is'])"
       ]
      }
     ],
     "prompt_number": 19
    },
    {
     "cell_type": "markdown",
     "metadata": {
      "slideshow": {
       "slide_type": "slide"
      }
     },
     "source": [
      "# Crowdsourced \"useful\" sorting"
     ]
    },
    {
     "cell_type": "code",
     "collapsed": false,
     "input": [
      "from pattern.web import sort, GOOGLE\n",
      "\n",
      "terms = [\n",
      "    'french',\n",
      "    'german',\n",
      "    'japanese',\n",
      "    'chinese',\n",
      "    'persian',\n",
      "    'hun',\n",
      "    'american',\n",
      "    'russian',\n",
      "    'swede',\n",
      "    'polish',\n",
      "    'singaporean',\n",
      "    'politician',\n",
      "]\n",
      "sort_result = sort(terms=terms, context='dangerous', prefix=True, service=GOOGLE, license=creds['google'])"
     ],
     "language": "python",
     "metadata": {
      "slideshow": {
       "slide_type": "-"
      }
     },
     "outputs": [],
     "prompt_number": 20
    },
    {
     "cell_type": "code",
     "collapsed": false,
     "input": [
      "for weight, term in sort_result:\n",
      "    print \"%.2f\" % (weight * 100) + '%', term"
     ],
     "language": "python",
     "metadata": {
      "slideshow": {
       "slide_type": "fragment"
      }
     },
     "outputs": [
      {
       "output_type": "stream",
       "stream": "stdout",
       "text": [
        "28.50% \"dangerous american\"\n",
        "21.18% \"dangerous russian\"\n",
        "11.85% \"dangerous japanese\"\n",
        "11.22% \"dangerous chinese\"\n",
        "10.10% \"dangerous politician\"\n",
        "8.99% \"dangerous german\"\n",
        "6.00% \"dangerous french\"\n",
        "1.12% \"dangerous polish\"\n",
        "0.53% \"dangerous hun\"\n",
        "0.33% \"dangerous persian\"\n",
        "0.17% \"dangerous swede\"\n",
        "0.01% \"dangerous singaporean\"\n"
       ]
      }
     ],
     "prompt_number": 21
    },
    {
     "cell_type": "markdown",
     "metadata": {
      "slideshow": {
       "slide_type": "slide"
      }
     },
     "source": [
      "## Other miscellaneous functionality\n",
      "\n",
      "* DOM parser\n",
      "* HTML -> plaintext\n",
      "* PDF -> plaintext\n",
      "* Crawler\n",
      "* IMAP (!!!)"
     ]
    },
    {
     "cell_type": "markdown",
     "metadata": {
      "slideshow": {
       "slide_type": "slide"
      }
     },
     "source": [
      "# pattern.en"
     ]
    },
    {
     "cell_type": "markdown",
     "metadata": {
      "slideshow": {
       "slide_type": "slide"
      }
     },
     "source": [
      "# Manipulation"
     ]
    },
    {
     "cell_type": "code",
     "collapsed": false,
     "input": [
      "from pattern.en import article, referenced\n",
      "\n",
      "article('harbour'), \\\n",
      "referenced('umbrella')"
     ],
     "language": "python",
     "metadata": {
      "slideshow": {
       "slide_type": "subslide"
      }
     },
     "outputs": [
      {
       "metadata": {},
       "output_type": "pyout",
       "prompt_number": 22,
       "text": [
        "('a', 'an umbrella')"
       ]
      }
     ],
     "prompt_number": 22
    },
    {
     "cell_type": "code",
     "collapsed": false,
     "input": [
      "from pattern.en import (pluralize as pluralise, singularize as singularise)"
     ],
     "language": "python",
     "metadata": {
      "slideshow": {
       "slide_type": "subslide"
      }
     },
     "outputs": [],
     "prompt_number": 23
    },
    {
     "cell_type": "code",
     "collapsed": false,
     "input": [
      "pluralise('octopus')"
     ],
     "language": "python",
     "metadata": {
      "slideshow": {
       "slide_type": "fragment"
      }
     },
     "outputs": [
      {
       "metadata": {},
       "output_type": "pyout",
       "prompt_number": 24,
       "text": [
        "'octopodes'"
       ]
      }
     ],
     "prompt_number": 24
    },
    {
     "cell_type": "code",
     "collapsed": false,
     "input": [
      "pluralise('octopus', classical=False)"
     ],
     "language": "python",
     "metadata": {
      "slideshow": {
       "slide_type": "fragment"
      }
     },
     "outputs": [
      {
       "metadata": {},
       "output_type": "pyout",
       "prompt_number": 25,
       "text": [
        "'octopuses'"
       ]
      }
     ],
     "prompt_number": 25
    },
    {
     "cell_type": "code",
     "collapsed": false,
     "input": [
      "pluralise('I'), \\\n",
      "pluralise('my'), \\\n",
      "pluralise('her')"
     ],
     "language": "python",
     "metadata": {
      "slideshow": {
       "slide_type": "fragment"
      }
     },
     "outputs": [
      {
       "metadata": {},
       "output_type": "pyout",
       "prompt_number": 26,
       "text": [
        "('we', 'our', 'their')"
       ]
      }
     ],
     "prompt_number": 26
    },
    {
     "cell_type": "code",
     "collapsed": false,
     "input": [
      "singularise('bacteria')"
     ],
     "language": "python",
     "metadata": {
      "slideshow": {
       "slide_type": "subslide"
      }
     },
     "outputs": [
      {
       "metadata": {},
       "output_type": "pyout",
       "prompt_number": 27,
       "text": [
        "'bacterium'"
       ]
      }
     ],
     "prompt_number": 27
    },
    {
     "cell_type": "code",
     "collapsed": false,
     "input": [
      "pluralise('virus')"
     ],
     "language": "python",
     "metadata": {
      "slideshow": {
       "slide_type": "fragment"
      }
     },
     "outputs": [
      {
       "metadata": {},
       "output_type": "pyout",
       "prompt_number": 28,
       "text": [
        "'viruss'"
       ]
      }
     ],
     "prompt_number": 28
    },
    {
     "cell_type": "code",
     "collapsed": false,
     "input": [
      "singularise('viruses'), \\\n",
      "singularise('virii'), \\\n",
      "singularise('virus')"
     ],
     "language": "python",
     "metadata": {
      "slideshow": {
       "slide_type": "fragment"
      }
     },
     "outputs": [
      {
       "metadata": {},
       "output_type": "pyout",
       "prompt_number": 29,
       "text": [
        "('viruse', 'virius', 'viru')"
       ]
      }
     ],
     "prompt_number": 29
    },
    {
     "cell_type": "code",
     "collapsed": false,
     "input": [
      "singularise('viri')"
     ],
     "language": "python",
     "metadata": {
      "slideshow": {
       "slide_type": "fragment"
      }
     },
     "outputs": [
      {
       "metadata": {},
       "output_type": "pyout",
       "prompt_number": 30,
       "text": [
        "'virus'"
       ]
      }
     ],
     "prompt_number": 30
    },
    {
     "cell_type": "code",
     "collapsed": false,
     "input": [
      "from pattern.en import comparative, superlative"
     ],
     "language": "python",
     "metadata": {
      "slideshow": {
       "slide_type": "subslide"
      }
     },
     "outputs": [],
     "prompt_number": 31
    },
    {
     "cell_type": "code",
     "collapsed": false,
     "input": [
      "'python is %s than ruby!' % comparative('good')"
     ],
     "language": "python",
     "metadata": {
      "slideshow": {
       "slide_type": "fragment"
      }
     },
     "outputs": [
      {
       "metadata": {},
       "output_type": "pyout",
       "prompt_number": 32,
       "text": [
        "'python is better than ruby!'"
       ]
      }
     ],
     "prompt_number": 32
    },
    {
     "cell_type": "code",
     "collapsed": false,
     "input": [
      "'iPython is %s python shell' % (\n",
      "referenced(superlative('ideal'), article=pattern.en.DEFINITE))"
     ],
     "language": "python",
     "metadata": {
      "slideshow": {
       "slide_type": "fragment"
      }
     },
     "outputs": [
      {
       "metadata": {},
       "output_type": "pyout",
       "prompt_number": 33,
       "text": [
        "'iPython is the most ideal python shell'"
       ]
      }
     ],
     "prompt_number": 33
    },
    {
     "cell_type": "code",
     "collapsed": false,
     "input": [
      "from pattern.en import conjugate, lemma, lexeme, tenses"
     ],
     "language": "python",
     "metadata": {
      "slideshow": {
       "slide_type": "subslide"
      }
     },
     "outputs": [],
     "prompt_number": 34
    },
    {
     "cell_type": "code",
     "collapsed": false,
     "input": [
      "lemma('are')"
     ],
     "language": "python",
     "metadata": {
      "slideshow": {
       "slide_type": "fragment"
      }
     },
     "outputs": [
      {
       "metadata": {},
       "output_type": "pyout",
       "prompt_number": 35,
       "text": [
        "u'be'"
       ]
      }
     ],
     "prompt_number": 35
    },
    {
     "cell_type": "code",
     "collapsed": false,
     "input": [
      "tenses('be'), \\\n",
      "tenses('were')"
     ],
     "language": "python",
     "metadata": {
      "slideshow": {
       "slide_type": "fragment"
      }
     },
     "outputs": [
      {
       "metadata": {},
       "output_type": "pyout",
       "prompt_number": 36,
       "text": [
        "([('infinitive', None, None, None, None),\n",
        "  ('present', None, 'plural', 'indicative', 'imperfective'),\n",
        "  ('present', 1, 'plural', 'indicative', 'imperfective'),\n",
        "  ('present', 1, 'singular', 'indicative', 'imperfective'),\n",
        "  ('present', 2, 'plural', 'indicative', 'imperfective'),\n",
        "  ('present', 2, 'singular', 'indicative', 'imperfective'),\n",
        "  ('present', 3, 'plural', 'indicative', 'imperfective'),\n",
        "  ('present', 3, 'singular', 'indicative', 'imperfective')],\n",
        " [('past', None, None, 'indicative', 'imperfective'),\n",
        "  ('past', None, 'plural', 'indicative', 'imperfective'),\n",
        "  ('past', 1, 'plural', 'indicative', 'imperfective'),\n",
        "  ('past', 1, 'singular', 'indicative', 'imperfective'),\n",
        "  ('past', 2, 'plural', 'indicative', 'imperfective'),\n",
        "  ('past', 2, 'singular', 'indicative', 'imperfective'),\n",
        "  ('past', 3, 'plural', 'indicative', 'imperfective'),\n",
        "  ('past', 3, 'singular', 'indicative', 'imperfective')])"
       ]
      }
     ],
     "prompt_number": 36
    },
    {
     "cell_type": "code",
     "collapsed": false,
     "input": [
      "lexeme('be')"
     ],
     "language": "python",
     "metadata": {
      "slideshow": {
       "slide_type": "subslide"
      }
     },
     "outputs": [
      {
       "metadata": {},
       "output_type": "pyout",
       "prompt_number": 37,
       "text": [
        "[u'be',\n",
        " u'am',\n",
        " u'are',\n",
        " u'is',\n",
        " u'being',\n",
        " u'was',\n",
        " u'were',\n",
        " u'been',\n",
        " u'am not',\n",
        " u\"aren't\",\n",
        " u\"isn't\",\n",
        " u\"wasn't\",\n",
        " u\"weren't\"]"
       ]
      }
     ],
     "prompt_number": 37
    },
    {
     "cell_type": "code",
     "collapsed": false,
     "input": [
      "conjugate('nibble', '1sgp'), \\\n",
      "conjugate('nibble', '3sg')"
     ],
     "language": "python",
     "metadata": {
      "slideshow": {
       "slide_type": "fragment"
      }
     },
     "outputs": [
      {
       "metadata": {},
       "output_type": "pyout",
       "prompt_number": 38,
       "text": [
        "(u'nibbled', u'nibbles')"
       ]
      }
     ],
     "prompt_number": 38
    },
    {
     "cell_type": "code",
     "collapsed": false,
     "input": [
      "conjugate('google', tense=pattern.en.PARTICIPLE, parse=False), \\\n",
      "conjugate('google', tense=pattern.en.PARTICIPLE, parse=True)"
     ],
     "language": "python",
     "metadata": {
      "slideshow": {
       "slide_type": "fragment"
      }
     },
     "outputs": [
      {
       "metadata": {},
       "output_type": "pyout",
       "prompt_number": 39,
       "text": [
        "(None, 'googling')"
       ]
      }
     ],
     "prompt_number": 39
    },
    {
     "cell_type": "markdown",
     "metadata": {
      "slideshow": {
       "slide_type": "slide"
      }
     },
     "source": [
      "# Numbers!"
     ]
    },
    {
     "cell_type": "code",
     "collapsed": false,
     "input": [
      "from pattern.en import number\n",
      "\n",
      "number('five thousand six hundred and eighty nine')"
     ],
     "language": "python",
     "metadata": {
      "slideshow": {
       "slide_type": "subslide"
      }
     },
     "outputs": [
      {
       "metadata": {},
       "output_type": "pyout",
       "prompt_number": 40,
       "text": [
        "5689"
       ]
      }
     ],
     "prompt_number": 40
    },
    {
     "cell_type": "code",
     "collapsed": false,
     "input": [
      "from pattern.en import numerals\n",
      "\n",
      "numerals('42.128', round=2)"
     ],
     "language": "python",
     "metadata": {
      "slideshow": {
       "slide_type": "fragment"
      }
     },
     "outputs": [
      {
       "metadata": {},
       "output_type": "pyout",
       "prompt_number": 41,
       "text": [
        "'forty-two point thirteen'"
       ]
      }
     ],
     "prompt_number": 41
    },
    {
     "cell_type": "code",
     "collapsed": false,
     "input": [
      "animals = ['goose', 'goose', 'duck', 'chicken', 'chicken', 'chicken']\n",
      "orangebirds = {'carrot': 100, 'parrot': 5, 'orange': 20}"
     ],
     "language": "python",
     "metadata": {
      "slideshow": {
       "slide_type": "subslide"
      }
     },
     "outputs": [],
     "prompt_number": 42
    },
    {
     "cell_type": "code",
     "collapsed": false,
     "input": [
      "from pattern.en import quantify\n",
      "\n",
      "quantify(animals), \\\n",
      "quantify(orangebirds)"
     ],
     "language": "python",
     "metadata": {
      "slideshow": {
       "slide_type": "fragment"
      }
     },
     "outputs": [
      {
       "metadata": {},
       "output_type": "pyout",
       "prompt_number": 43,
       "text": [
        "('several chickens, a pair of geese and a duck',\n",
        " 'dozens of carrots, a score of oranges and several parrots')"
       ]
      }
     ],
     "prompt_number": 43
    },
    {
     "cell_type": "markdown",
     "metadata": {
      "slideshow": {
       "slide_type": "slide"
      }
     },
     "source": [
      "# Autocorrect\u2026 ish"
     ]
    },
    {
     "cell_type": "code",
     "collapsed": false,
     "input": [
      "from pattern.en import suggest\n",
      "\n",
      "suggest('psuh')"
     ],
     "language": "python",
     "metadata": {
      "slideshow": {
       "slide_type": "subslide"
      }
     },
     "outputs": [
      {
       "metadata": {},
       "output_type": "pyout",
       "prompt_number": 44,
       "text": [
        "[('push', 1.0)]"
       ]
      }
     ],
     "prompt_number": 44
    },
    {
     "cell_type": "code",
     "collapsed": false,
     "input": [
      "suggest('carot')"
     ],
     "language": "python",
     "metadata": {
      "slideshow": {
       "slide_type": "fragment"
      }
     },
     "outputs": [
      {
       "metadata": {},
       "output_type": "pyout",
       "prompt_number": 45,
       "text": [
        "[('cart', 0.9032258064516129),\n",
        " ('cabot', 0.04838709677419355),\n",
        " ('carrot', 0.03225806451612903),\n",
        " ('caret', 0.016129032258064516)]"
       ]
      }
     ],
     "prompt_number": 45
    },
    {
     "cell_type": "markdown",
     "metadata": {
      "slideshow": {
       "slide_type": "slide"
      }
     },
     "source": [
      "# n-grams"
     ]
    },
    {
     "cell_type": "code",
     "collapsed": false,
     "input": [
      "from pattern.en import ngrams"
     ],
     "language": "python",
     "metadata": {
      "slideshow": {
       "slide_type": "subslide"
      }
     },
     "outputs": [],
     "prompt_number": 46
    },
    {
     "cell_type": "code",
     "collapsed": false,
     "input": [
      "ngrams('This is a sentence', n=2)"
     ],
     "language": "python",
     "metadata": {
      "slideshow": {
       "slide_type": "fragment"
      }
     },
     "outputs": [
      {
       "metadata": {},
       "output_type": "pyout",
       "prompt_number": 47,
       "text": [
        "[('This', 'is'), ('is', 'a'), ('a', 'sentence')]"
       ]
      }
     ],
     "prompt_number": 47
    },
    {
     "cell_type": "code",
     "collapsed": false,
     "input": [
      "ngrams('This is a sentence', n=3)"
     ],
     "language": "python",
     "metadata": {
      "slideshow": {
       "slide_type": "fragment"
      }
     },
     "outputs": [
      {
       "metadata": {},
       "output_type": "pyout",
       "prompt_number": 48,
       "text": [
        "[('This', 'is', 'a'), ('is', 'a', 'sentence')]"
       ]
      }
     ],
     "prompt_number": 48
    },
    {
     "cell_type": "markdown",
     "metadata": {
      "slideshow": {
       "slide_type": "slide"
      }
     },
     "source": [
      "# Parsing"
     ]
    },
    {
     "cell_type": "code",
     "collapsed": false,
     "input": [
      "short_s = 'When I saw the prices for some of those apartments, I was startled.'\n",
      "long_s = 'Personally, I think the only unassailable definition is the one often attributed to the great editor John W Campbell: \"Science fiction is what I say it is.\"'"
     ],
     "language": "python",
     "metadata": {
      "slideshow": {
       "slide_type": "subslide"
      }
     },
     "outputs": [],
     "prompt_number": 49
    },
    {
     "cell_type": "code",
     "collapsed": false,
     "input": [
      "from pattern.en import tag\n",
      "\n",
      "for word, pos in tag(short_s):\n",
      "    if pos[:2] == 'NN':\n",
      "        print(word)"
     ],
     "language": "python",
     "metadata": {
      "slideshow": {
       "slide_type": "fragment"
      }
     },
     "outputs": [
      {
       "output_type": "stream",
       "stream": "stdout",
       "text": [
        "prices\n",
        "apartments\n"
       ]
      }
     ],
     "prompt_number": 50
    },
    {
     "cell_type": "code",
     "collapsed": false,
     "input": [
      "from pattern.en import parse\n",
      "\n",
      "parsed = parse(short_s, tokenize=True, tags=True, chunks=True, relations=True, lemmata=True)\n",
      "parsed"
     ],
     "language": "python",
     "metadata": {
      "slideshow": {
       "slide_type": "subslide"
      }
     },
     "outputs": [
      {
       "metadata": {},
       "output_type": "pyout",
       "prompt_number": 51,
       "text": [
        "u'When/WRB/O/O/O/when I/PRP/B-NP/O/NP-SBJ-1/i saw/VBD/B-VP/O/VP-1/see the/DT/B-NP/O/NP-OBJ-1/the prices/NNS/I-NP/O/NP-OBJ-1/price for/IN/B-PP/O/O/for some/DT/O/O/O/some of/IN/B-PP/B-PNP/O/of those/DT/B-NP/I-PNP/O/those apartments/NNS/I-NP/I-PNP/O/apartment ,/,/O/O/O/, I/PRP/B-NP/O/NP-SBJ-2/i was/VBD/B-VP/O/VP-2/be startled/VBN/I-VP/O/VP-2/startle ././O/O/O/.'"
       ]
      }
     ],
     "prompt_number": 51
    },
    {
     "cell_type": "code",
     "collapsed": false,
     "input": [
      "from pattern.en import pprint\n",
      "\n",
      "pprint(parsed)"
     ],
     "language": "python",
     "metadata": {
      "slideshow": {
       "slide_type": "fragment"
      }
     },
     "outputs": [
      {
       "output_type": "stream",
       "stream": "stdout",
       "text": [
        "          WORD   TAG    CHUNK   ROLE   ID     PNP    LEMMA       \n",
        "                                                                 \n",
        "          When   WRB    -       -      -      -      when        \n",
        "             I   PRP    NP      SBJ    1      -      i           \n",
        "           saw   VBD    VP      -      1      -      see         \n",
        "           the   DT     NP      OBJ    1      -      the         \n",
        "        prices   NNS    NP ^    OBJ    1      -      price       \n",
        "           for   IN     PP      -      -      -      for         \n",
        "          some   DT     -       -      -      -      some        \n",
        "            of   IN     PP      -      -      PNP    of          \n",
        "         those   DT     NP      -      -      PNP    those       \n",
        "    apartments   NNS    NP ^    -      -      PNP    apartment   \n",
        "             ,   ,      -       -      -      -      ,           \n",
        "             I   PRP    NP      SBJ    2      -      i           \n",
        "           was   VBD    VP      -      2      -      be          \n",
        "      startled   VBN    VP ^    -      2      -      startle     \n",
        "             .   .      -       -      -      -      .           \n"
       ]
      }
     ],
     "prompt_number": 52
    },
    {
     "cell_type": "code",
     "collapsed": false,
     "input": [
      "from pattern.en import parsetree\n",
      "\n",
      "parsetree(short_s, tokenize=True, tags=True, chunks=True, relations=True, lemmata=True)"
     ],
     "language": "python",
     "metadata": {
      "slideshow": {
       "slide_type": "subslide"
      }
     },
     "outputs": [
      {
       "metadata": {},
       "output_type": "pyout",
       "prompt_number": 53,
       "text": [
        "[Sentence('When/WRB/O/O/O/when I/PRP/B-NP/O/NP-SBJ-1/i saw/VBD/B-VP/O/VP-1/see the/DT/B-NP/O/NP-OBJ-1/the prices/NNS/I-NP/O/NP-OBJ-1/price for/IN/B-PP/O/O/for some/DT/O/O/O/some of/IN/B-PP/B-PNP/O/of those/DT/B-NP/I-PNP/O/those apartments/NNS/I-NP/I-PNP/O/apartment ,/,/O/O/O/, I/PRP/B-NP/O/NP-SBJ-2/i was/VBD/B-VP/O/VP-2/be startled/VBN/I-VP/O/VP-2/startle ././O/O/O/.')]"
       ]
      }
     ],
     "prompt_number": 53
    },
    {
     "cell_type": "code",
     "collapsed": false,
     "input": [
      "tr = parsetree(long_s, tokenize=True, tags=True, chunks=True, relations=True, lemmata=True)\n",
      "\n",
      "print(type(tr))"
     ],
     "language": "python",
     "metadata": {
      "slideshow": {
       "slide_type": "fragment"
      }
     },
     "outputs": [
      {
       "output_type": "stream",
       "stream": "stdout",
       "text": [
        "<class 'pattern.text.tree.Text'>\n"
       ]
      }
     ],
     "prompt_number": 54
    },
    {
     "cell_type": "code",
     "collapsed": false,
     "input": [
      "[type(item) for item in tr]"
     ],
     "language": "python",
     "metadata": {
      "slideshow": {
       "slide_type": "fragment"
      }
     },
     "outputs": [
      {
       "metadata": {},
       "output_type": "pyout",
       "prompt_number": 55,
       "text": [
        "[pattern.text.tree.Sentence, pattern.text.tree.Sentence]"
       ]
      }
     ],
     "prompt_number": 55
    },
    {
     "cell_type": "code",
     "collapsed": false,
     "input": [
      "type(tr[0][0])"
     ],
     "language": "python",
     "metadata": {
      "slideshow": {
       "slide_type": "fragment"
      }
     },
     "outputs": [
      {
       "metadata": {},
       "output_type": "pyout",
       "prompt_number": 56,
       "text": [
        "pattern.text.tree.Word"
       ]
      }
     ],
     "prompt_number": 56
    },
    {
     "cell_type": "code",
     "collapsed": false,
     "input": [
      "for sentence in tr:\n",
      "    for chunk in sentence.chunks:\n",
      "        print(chunk.type, [(w.string, w.type) for w in chunk.words])"
     ],
     "language": "python",
     "metadata": {
      "slideshow": {
       "slide_type": "subslide"
      }
     },
     "outputs": [
      {
       "output_type": "stream",
       "stream": "stdout",
       "text": [
        "(u'ADVP', [(u'Personally', u'RB')])\n",
        "(u'NP', [(u'I', u'PRP')])\n",
        "(u'VP', [(u'think', u'VBP')])\n",
        "(u'NP', [(u'the', u'DT'), (u'only', u'JJ'), (u'unassailable', u'JJ'), (u'definition', u'NN')])\n",
        "(u'VP', [(u'is', u'VBZ')])\n",
        "(u'VP', [(u'often', u'RB'), (u'attributed', u'VBN')])\n",
        "(u'NP', [(u'the', u'DT'), (u'great', u'JJ'), (u'editor', u'NN'), (u'John', u'NNP'), (u'W', u'NNP'), (u'Campbell', u'NNP')])\n",
        "(u'NP', [(u'Science', u'NN'), (u'fiction', u'NN')])\n",
        "(u'VP', [(u'is', u'VBZ')])\n",
        "(u'NP', [(u'I', u'PRP')])\n",
        "(u'VP', [(u'say', u'VBP')])\n",
        "(u'NP', [(u'it', u'PRP')])\n",
        "(u'VP', [(u'is', u'VBZ')])\n"
       ]
      }
     ],
     "prompt_number": 57
    },
    {
     "cell_type": "markdown",
     "metadata": {
      "slideshow": {
       "slide_type": "slide"
      }
     },
     "source": [
      "# \"Sentiment analysis\""
     ]
    },
    {
     "cell_type": "code",
     "collapsed": false,
     "input": [
      "from pattern.en import sentiment"
     ],
     "language": "python",
     "metadata": {},
     "outputs": [],
     "prompt_number": 58
    },
    {
     "cell_type": "code",
     "collapsed": false,
     "input": [
      "sg_result = tw.search('causeway', count=50, geo=geocode('Singapore')[:2])\n",
      "my_result = tw.search('causeway', count=50, geo=geocode('Kuala Lumpur')[:2])"
     ],
     "language": "python",
     "metadata": {
      "slideshow": {
       "slide_type": "subslide"
      }
     },
     "outputs": [],
     "prompt_number": 59
    },
    {
     "cell_type": "code",
     "collapsed": false,
     "input": [
      "sg_sentiment = sorted(sentiment(tweet.text)[0] for tweet in sg_result)\n",
      "my_sentiment = sorted(sentiment(tweet.text)[0] for tweet in my_result)\n",
      "\n",
      "sg_avg = sum(sg_sentiment) / len(sg_sentiment)\n",
      "my_avg = sum(my_sentiment) / len(my_sentiment)\n",
      "\n",
      "sg_avg, my_avg"
     ],
     "language": "python",
     "metadata": {
      "slideshow": {
       "slide_type": "fragment"
      }
     },
     "outputs": [
      {
       "metadata": {},
       "output_type": "pyout",
       "prompt_number": 60,
       "text": [
        "(0.079808080808080814, -0.24100000000000008)"
       ]
      }
     ],
     "prompt_number": 60
    },
    {
     "cell_type": "code",
     "collapsed": false,
     "input": [
      "x = linspace(0, 50)\n",
      "plot(sg_sentiment, 'r-', label='sg')\n",
      "plot(x, [sg_avg for i in xrange(0, 50)], 'r--', label='sg_avg')\n",
      "plot(my_sentiment, 'g-', label='my')\n",
      "plot(x, [my_avg for i in xrange(0, 50)], 'g--', label='my_avg')\n",
      "grid(b=True, which='both')\n",
      "legend(loc='best')"
     ],
     "language": "python",
     "metadata": {
      "slideshow": {
       "slide_type": "subslide"
      }
     },
     "outputs": [
      {
       "metadata": {},
       "output_type": "pyout",
       "prompt_number": 61,
       "text": [
        "<matplotlib.legend.Legend at 0x7f0cedfa2650>"
       ]
      },
      {
       "metadata": {},
       "output_type": "display_data",
       "png": "[encoded data removed]",
       "text": [
        "<matplotlib.figure.Figure at 0x7f0cee08e390>"
       ]
      }
     ],
     "prompt_number": 61
    },
    {
     "cell_type": "markdown",
     "metadata": {
      "slideshow": {
       "slide_type": "slide"
      }
     },
     "source": [
      "# WordNet"
     ]
    },
    {
     "cell_type": "code",
     "collapsed": false,
     "input": [
      "from pattern.en import wordnet"
     ],
     "language": "python",
     "metadata": {
      "slideshow": {
       "slide_type": "subslide"
      }
     },
     "outputs": [],
     "prompt_number": 62
    },
    {
     "cell_type": "code",
     "collapsed": false,
     "input": [
      "birds = wordnet.synsets('bird')\n",
      "birds"
     ],
     "language": "python",
     "metadata": {
      "slideshow": {
       "slide_type": "fragment"
      }
     },
     "outputs": [
      {
       "metadata": {},
       "output_type": "pyout",
       "prompt_number": 63,
       "text": [
        "[Synset(u'bird'),\n",
        " Synset(u'bird'),\n",
        " Synset(u'dame'),\n",
        " Synset(u'boo'),\n",
        " Synset(u'shuttlecock')]"
       ]
      }
     ],
     "prompt_number": 63
    },
    {
     "cell_type": "code",
     "collapsed": false,
     "input": [
      "bird = birds[0]\n",
      "\n",
      "'Definition', bird.gloss"
     ],
     "language": "python",
     "metadata": {
      "slideshow": {
       "slide_type": "fragment"
      }
     },
     "outputs": [
      {
       "metadata": {},
       "output_type": "pyout",
       "prompt_number": 64,
       "text": [
        "('Definition',\n",
        " u'warm-blooded egg-laying vertebrates characterized by feathers and forelimbs modified as wings')"
       ]
      }
     ],
     "prompt_number": 64
    },
    {
     "cell_type": "code",
     "collapsed": false,
     "input": [
      "'- Synonyms', bird.synonyms"
     ],
     "language": "python",
     "metadata": {
      "slideshow": {
       "slide_type": "subslide"
      }
     },
     "outputs": [
      {
       "metadata": {},
       "output_type": "pyout",
       "prompt_number": 65,
       "text": [
        "('- Synonyms', [u'bird'])"
       ]
      }
     ],
     "prompt_number": 65
    },
    {
     "cell_type": "code",
     "collapsed": false,
     "input": [
      "'^ Hypernyms', bird.hypernyms()"
     ],
     "language": "python",
     "metadata": {
      "slideshow": {
       "slide_type": "fragment"
      }
     },
     "outputs": [
      {
       "metadata": {},
       "output_type": "pyout",
       "prompt_number": 66,
       "text": [
        "('^ Hypernyms', [Synset(u'vertebrate')])"
       ]
      }
     ],
     "prompt_number": 66
    },
    {
     "cell_type": "code",
     "collapsed": false,
     "input": [
      "'v Hyponyms', bird.hyponyms()"
     ],
     "language": "python",
     "metadata": {
      "slideshow": {
       "slide_type": "fragment"
      }
     },
     "outputs": [
      {
       "metadata": {},
       "output_type": "pyout",
       "prompt_number": 67,
       "text": [
        "('v Hyponyms',\n",
        " [Synset(u'dickeybird'),\n",
        "  Synset(u'cock'),\n",
        "  Synset(u'hen'),\n",
        "  Synset(u'nester'),\n",
        "  Synset(u'night bird'),\n",
        "  Synset(u'bird of passage'),\n",
        "  Synset(u'protoavis'),\n",
        "  Synset(u'archaeopteryx'),\n",
        "  Synset(u'Sinornis'),\n",
        "  Synset(u'Ibero-mesornis'),\n",
        "  Synset(u'archaeornis'),\n",
        "  Synset(u'ratite'),\n",
        "  Synset(u'carinate'),\n",
        "  Synset(u'passerine'),\n",
        "  Synset(u'nonpasserine bird'),\n",
        "  Synset(u'bird of prey'),\n",
        "  Synset(u'gallinaceous bird'),\n",
        "  Synset(u'parrot'),\n",
        "  Synset(u'cuculiform bird'),\n",
        "  Synset(u'coraciiform bird'),\n",
        "  Synset(u'apodiform bird'),\n",
        "  Synset(u'caprimulgiform bird'),\n",
        "  Synset(u'piciform bird'),\n",
        "  Synset(u'trogon'),\n",
        "  Synset(u'aquatic bird'),\n",
        "  Synset(u'twitterer')])"
       ]
      }
     ],
     "prompt_number": 67
    },
    {
     "cell_type": "code",
     "collapsed": false,
     "input": [
      "'^ Holonyms', bird.holonyms()"
     ],
     "language": "python",
     "metadata": {
      "slideshow": {
       "slide_type": "subslide"
      }
     },
     "outputs": [
      {
       "metadata": {},
       "output_type": "pyout",
       "prompt_number": 68,
       "text": [
        "('^ Holonyms', [Synset(u'Aves'), Synset(u'flock')])"
       ]
      }
     ],
     "prompt_number": 68
    },
    {
     "cell_type": "code",
     "collapsed": false,
     "input": [
      "'v Meronyms', bird.meronyms()"
     ],
     "language": "python",
     "metadata": {
      "slideshow": {
       "slide_type": "fragment"
      }
     },
     "outputs": [
      {
       "metadata": {},
       "output_type": "pyout",
       "prompt_number": 69,
       "text": [
        "('v Meronyms',\n",
        " [Synset(u'beak'),\n",
        "  Synset(u'furcula'),\n",
        "  Synset(u'feather'),\n",
        "  Synset(u'wing'),\n",
        "  Synset(u'pennon'),\n",
        "  Synset(u\"bird's foot\"),\n",
        "  Synset(u'uropygium'),\n",
        "  Synset(u'hindquarters'),\n",
        "  Synset(u'air sac'),\n",
        "  Synset(u'uropygial gland'),\n",
        "  Synset(u'syrinx'),\n",
        "  Synset(u'bird')])"
       ]
      }
     ],
     "prompt_number": 69
    },
    {
     "cell_type": "code",
     "collapsed": false,
     "input": [
      "wordnet.synsets('owl')[0].holonyms(), wordnet.synsets('amoeba')[0].holonyms()"
     ],
     "language": "python",
     "metadata": {
      "slideshow": {
       "slide_type": "subslide"
      }
     },
     "outputs": [
      {
       "metadata": {},
       "output_type": "pyout",
       "prompt_number": 70,
       "text": [
        "([Synset(u'Strigiformes')], [Synset(u'Amoebida')])"
       ]
      }
     ],
     "prompt_number": 70
    },
    {
     "cell_type": "code",
     "collapsed": false,
     "input": [
      "kitty = wordnet.synsets('kitten')[0]\n",
      "pup = wordnet.synsets('puppy')[0]\n",
      "\n",
      "wordnet.ancestor(kitty, pup)"
     ],
     "language": "python",
     "metadata": {
      "slideshow": {
       "slide_type": "subslide"
      }
     },
     "outputs": [
      {
       "metadata": {},
       "output_type": "pyout",
       "prompt_number": 71,
       "text": [
        "Synset(u'young mammal')"
       ]
      }
     ],
     "prompt_number": 71
    },
    {
     "cell_type": "code",
     "collapsed": false,
     "input": [
      "human = wordnet.synsets('human')[0]\n",
      "cuy = wordnet.synsets('guinea pig')[0]\n",
      "\n",
      "wordnet.similarity(human, cuy), \\\n",
      "wordnet.similarity(human, kitty)"
     ],
     "language": "python",
     "metadata": {
      "slideshow": {
       "slide_type": "fragment"
      }
     },
     "outputs": [
      {
       "metadata": {},
       "output_type": "pyout",
       "prompt_number": 72,
       "text": [
        "(0.26171115255795596, 0.5710216026393958)"
       ]
      }
     ],
     "prompt_number": 72
    },
    {
     "cell_type": "markdown",
     "metadata": {
      "slideshow": {
       "slide_type": "slide"
      }
     },
     "source": [
      "# pattern.search"
     ]
    },
    {
     "cell_type": "code",
     "collapsed": false,
     "input": [
      "s = 'the fluffy brown bunnies hopped across the wet grass with much gusto.'"
     ],
     "language": "python",
     "metadata": {
      "slideshow": {
       "slide_type": "subslide"
      }
     },
     "outputs": [],
     "prompt_number": 73
    },
    {
     "cell_type": "code",
     "collapsed": false,
     "input": [
      "from pattern.search import search\n",
      "\n",
      "search('NP', parsetree(s))"
     ],
     "language": "python",
     "metadata": {
      "slideshow": {
       "slide_type": "fragment"
      }
     },
     "outputs": [
      {
       "metadata": {},
       "output_type": "pyout",
       "prompt_number": 74,
       "text": [
        "[Match(words=[Word(u'the/DT'), Word(u'fluffy/JJ'), Word(u'brown/JJ'), Word(u'bunnies/NNS')]),\n",
        " Match(words=[Word(u'the/DT'), Word(u'wet/JJ'), Word(u'grass/NN')]),\n",
        " Match(words=[Word(u'much/JJ'), Word(u'gusto/NN')])]"
       ]
      }
     ],
     "prompt_number": 74
    },
    {
     "cell_type": "code",
     "collapsed": false,
     "input": [
      "from pattern.search import taxonomy\n",
      "\n",
      "for animal in ('bunny', 'dog', 'cat', 'banana'):\n",
      "    taxonomy.append(animal, type='animal')\n",
      "    \n",
      "search('ANIMAL', parsetree(s, lemmata=True))"
     ],
     "language": "python",
     "metadata": {
      "slideshow": {
       "slide_type": "fragment"
      }
     },
     "outputs": [
      {
       "metadata": {},
       "output_type": "pyout",
       "prompt_number": 75,
       "text": [
        "[Match(words=[Word(u'the/DT'), Word(u'fluffy/JJ'), Word(u'brown/JJ'), Word(u'bunnies/NNS')])]"
       ]
      }
     ],
     "prompt_number": 75
    },
    {
     "cell_type": "code",
     "collapsed": false,
     "input": [
      "from pattern.search import Pattern\n",
      "\n",
      "pat = Pattern.fromstring('{JJ} {ANIMAL} {VP}')\n",
      "match = pat.match(parsetree(s, lemmata=True))\n",
      "for i in range(0,4):\n",
      "    print(match.group(i))"
     ],
     "language": "python",
     "metadata": {
      "slideshow": {
       "slide_type": "subslide"
      }
     },
     "outputs": [
      {
       "output_type": "stream",
       "stream": "stdout",
       "text": [
        "[Word(u'fluffy/JJ'), Word(u'brown/JJ'), Word(u'bunnies/NNS'), Word(u'hopped/VBD')]\n",
        "[Word(u'fluffy/JJ')]\n",
        "[Word(u'brown/JJ'), Word(u'bunnies/NNS')]\n",
        "[Word(u'hopped/VBD')]\n"
       ]
      }
     ],
     "prompt_number": 76
    },
    {
     "cell_type": "markdown",
     "metadata": {
      "slideshow": {
       "slide_type": "slide"
      }
     },
     "source": [
      "# fin\n",
      "\n",
      "[more?](https://rahul.ag/pugs-tweet.slides.html)"
     ]
    }
   ],
   "metadata": {}
  }
 ]
}