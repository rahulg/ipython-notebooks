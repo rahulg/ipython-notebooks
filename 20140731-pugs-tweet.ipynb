{
 "metadata": {
  "celltoolbar": "Slideshow",
  "name": "",
  "signature": "sha256:27b701346eb1b5a7c21533d533f0f415c289296e55f3dfff93e7cdd4a1e4f4a6"
 },
 "nbformat": 3,
 "nbformat_minor": 0,
 "worksheets": [
  {
   "cells": [
    {
     "cell_type": "code",
     "collapsed": false,
     "input": [
      "import os"
     ],
     "language": "python",
     "metadata": {
      "slideshow": {
       "slide_type": "skip"
      }
     },
     "outputs": [],
     "prompt_number": 1
    },
    {
     "cell_type": "code",
     "collapsed": false,
     "input": [
      "my_tweets = open('/data/tweets', 'r').read().decode('utf-8')"
     ],
     "language": "python",
     "metadata": {
      "slideshow": {
       "slide_type": "skip"
      }
     },
     "outputs": [],
     "prompt_number": 2
    },
    {
     "cell_type": "code",
     "collapsed": false,
     "input": [
      "from pattern.en import parsetree\n",
      "from pattern.search import search"
     ],
     "language": "python",
     "metadata": {
      "slideshow": {
       "slide_type": "slide"
      }
     },
     "outputs": [],
     "prompt_number": 3
    },
    {
     "cell_type": "code",
     "collapsed": false,
     "input": [
      "tweettree = parsetree(my_tweets, tokenize=True, tags=True, chunks=True, relations=True, lemmata=True)"
     ],
     "language": "python",
     "metadata": {
      "slideshow": {
       "slide_type": "fragment"
      }
     },
     "outputs": [],
     "prompt_number": 4
    },
    {
     "cell_type": "code",
     "collapsed": false,
     "input": [
      "phr = search('JJ? NP be JJ+', tweettree)"
     ],
     "language": "python",
     "metadata": {
      "slideshow": {
       "slide_type": "slide"
      }
     },
     "outputs": [],
     "prompt_number": 5
    },
    {
     "cell_type": "code",
     "collapsed": false,
     "input": [
      "[p.string for p in phr[:5]]"
     ],
     "language": "python",
     "metadata": {
      "slideshow": {
       "slide_type": "fragment"
      }
     },
     "outputs": [
      {
       "metadata": {},
       "output_type": "pyout",
       "prompt_number": 6,
       "text": [
        "[u'Timetables may be injurious',\n",
        " u\"I 'm scared\",\n",
        " u'the past is unlikely',\n",
        " u'everyone please be direct',\n",
        " u'a number is prime']"
       ]
      }
     ],
     "prompt_number": 6
    },
    {
     "cell_type": "code",
     "collapsed": false,
     "input": [
      "from pattern.en.wordlist import PROFANITY\n",
      "from pattern.search import taxonomy"
     ],
     "language": "python",
     "metadata": {
      "slideshow": {
       "slide_type": "slide"
      }
     },
     "outputs": [],
     "prompt_number": 7
    },
    {
     "cell_type": "code",
     "collapsed": false,
     "input": [
      "for swear in PROFANITY:\n",
      "    taxonomy.append(swear, type='profanity')"
     ],
     "language": "python",
     "metadata": {
      "slideshow": {
       "slide_type": "fragment"
      }
     },
     "outputs": [],
     "prompt_number": 8
    },
    {
     "cell_type": "code",
     "collapsed": false,
     "input": [
      "prof = search('{PROFANITY}', tweettree)"
     ],
     "language": "python",
     "metadata": {
      "slideshow": {
       "slide_type": "fragment"
      }
     },
     "outputs": [],
     "prompt_number": 21
    },
    {
     "cell_type": "code",
     "collapsed": false,
     "input": [
      "100.0 * len(prof) / len(tweettree)"
     ],
     "language": "python",
     "metadata": {
      "slideshow": {
       "slide_type": "fragment"
      }
     },
     "outputs": [
      {
       "metadata": {},
       "output_type": "pyout",
       "prompt_number": 22,
       "text": [
        "2.6650755767700876"
       ]
      }
     ],
     "prompt_number": 22
    },
    {
     "cell_type": "code",
     "collapsed": false,
     "input": [
      "s = []\n",
      "for m in prof:\n",
      "    for w in m.words:\n",
      "        s.append(w.string)"
     ],
     "language": "python",
     "metadata": {},
     "outputs": [],
     "prompt_number": 33
    },
    {
     "cell_type": "code",
     "collapsed": false,
     "input": [
      "from collections import Counter\n",
      "c = Counter(s)\n",
      "c.most_common()"
     ],
     "language": "python",
     "metadata": {},
     "outputs": [
      {
       "metadata": {},
       "output_type": "pyout",
       "prompt_number": 34,
       "text": [
        "[(u'shit', 9),\n",
        " (u'hell', 7),\n",
        " (u'fuck', 5),\n",
        " (u'WTF', 5),\n",
        " (u'wtf', 3),\n",
        " (u'the', 3),\n",
        " (u'fucking', 2),\n",
        " (u'arses', 2),\n",
        " (u'Fools', 2),\n",
        " (u'to', 2),\n",
        " (u'damn', 2),\n",
        " (u'Fuck', 2),\n",
        " (u'fucked', 2),\n",
        " (u'a', 2),\n",
        " (u'arse', 2),\n",
        " (u'up', 2),\n",
        " (u'idiot', 2),\n",
        " (u'|', 2),\n",
        " (u'CMO', 1),\n",
        " (u'all', 1),\n",
        " (u'mogoTXT', 1),\n",
        " (u'Dick', 1),\n",
        " (u'arsed', 1),\n",
        " (u'one', 1),\n",
        " (u'twat', 1),\n",
        " (u'Damn', 1),\n",
        " (u'ymichael', 1),\n",
        " (u'Fool', 1),\n",
        " (u'unbearable', 1),\n",
        " (u'gay', 1),\n",
        " (u'their', 1),\n",
        " (u'0000', 1),\n",
        " (u'arsehole', 1),\n",
        " (u'fucks', 1),\n",
        " (u'Dumbasses', 1),\n",
        " (u'Ass', 1),\n",
        " (u'Ho', 1),\n",
        " (u'which', 1),\n",
        " (u'Spook', 1),\n",
        " (u'shits', 1),\n",
        " (u'Bullshit', 1),\n",
        " (u'2013', 1),\n",
        " (u'piss', 1),\n",
        " (u'ass', 1),\n",
        " (u'Goddamned', 1),\n",
        " (u'Ben', 1),\n",
        " (u'holy', 1),\n",
        " (u'that', 1),\n",
        " (u'I', 1),\n",
        " (u'sucker', 1),\n",
        " (u'sodding', 1),\n",
        " (u'April', 1),\n",
        " (u'fooling', 1),\n",
        " (u'no', 1),\n",
        " (u'an', 1),\n",
        " (u'_', 1),\n",
        " (u'balls', 1),\n",
        " (u'off', 1),\n",
        " (u'shurru', 1),\n",
        " (u'column', 1),\n",
        " (u'That', 1),\n",
        " (u'Bloody', 1),\n",
        " (u'my', 1),\n",
        " (u'Shit', 1)]"
       ]
      }
     ],
     "prompt_number": 34
    },
    {
     "cell_type": "code",
     "collapsed": false,
     "input": [],
     "language": "python",
     "metadata": {},
     "outputs": []
    }
   ],
   "metadata": {}
  }
 ]
}